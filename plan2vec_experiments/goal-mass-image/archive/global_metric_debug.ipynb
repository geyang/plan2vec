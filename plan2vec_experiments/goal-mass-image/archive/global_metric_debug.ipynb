{
  "cells": [
    {
      "cell_type": "code",
      "execution_count": 5,
      "outputs": [],
      "source": "import torch\nimport torch.nn as nn\nfrom torch_utils import View",
      "metadata": {
        "pycharm": {
          "metadata": false,
          "name": "#%%\n",
          "is_executing": false
        }
      }
    },
    {
      "cell_type": "code",
      "execution_count": null,
      "outputs": [],
      "source": "img_1 \u003d torch.ones(7, 1, 64, 64)\nimg_2 \u003d torch.zeros(7, 1, 64, 64)\n",
      "metadata": {
        "pycharm": {
          "metadata": false,
          "name": "#%%\n"
        }
      }
    },
    {
      "cell_type": "code",
      "execution_count": 28,
      "metadata": {
        "collapsed": true,
        "pycharm": {
          "is_executing": false
        }
      },
      "outputs": [],
      "source": "trunk \u003d [\n            nn.Conv2d(1, 128, kernel_size\u003d4, stride\u003d2),\n            nn.BatchNorm2d(128),\n            nn.ReLU(),\n            nn.Conv2d(128, 128, kernel_size\u003d4, stride\u003d2),\n            nn.BatchNorm2d(128),\n            nn.ReLU(),\n            nn.Conv2d(128, 128, kernel_size\u003d4, stride\u003d1),\n            nn.BatchNorm2d(128),\n            nn.ReLU(),\n            nn.Conv2d(128, 128, kernel_size\u003d4, stride\u003d1),\n            nn.BatchNorm2d(128),\n            nn.ReLU(),\n            nn.Conv2d(128, 128, kernel_size\u003d4, stride\u003d1),\n            nn.BatchNorm2d(128),\n            nn.ReLU(),\n            nn.Conv2d(128, 10, kernel_size\u003d4, stride\u003d1),\n            nn.BatchNorm2d(10),\n            nn.ReLU(),\n            View(280),\n]\nhead \u003d [\n            nn.Linear(280 * 2, 20),\n            nn.ReLU(),\n            nn.Linear(20, 10),\n            nn.ReLU(),\n            nn.Linear(10, 1)\n    ]"
    },
    {
      "cell_type": "code",
      "execution_count": 29,
      "outputs": [
        {
          "name": "stdout",
          "text": [
            "torch.Size([1, 280])\ntorch.Size([1, 560])\ntorch.Size([1, 1])\n"
          ],
          "output_type": "stream"
        }
      ],
      "source": "_ \u003d img_1\nfor l in trunk:\n    _ \u003d l(_)\nprint(_.shape)\n_ \u003d torch.cat([_, _], dim\u003d-1)\nprint(_.shape)\nfor l in head:\n    _ \u003d l(_)\nprint(_.shape)\n",
      "metadata": {
        "pycharm": {
          "metadata": false,
          "name": "#%%\n",
          "is_executing": false
        }
      }
    },
    {
      "cell_type": "code",
      "execution_count": 36,
      "outputs": [],
      "source": "\nclass GlobalMetricConvDeepKernel(nn.Module):\n    def __init__(self, input_dim, latent_dim):\n        super().__init__()\n\n        self.trunk \u003d nn.Sequential(\n            nn.Conv2d(1, 128, kernel_size\u003d4, stride\u003d2),\n            nn.BatchNorm2d(128),\n            nn.ReLU(),\n            nn.Conv2d(128, 128, kernel_size\u003d4, stride\u003d2),\n            nn.BatchNorm2d(128),\n            nn.ReLU(),\n            nn.Conv2d(128, 128, kernel_size\u003d4, stride\u003d1),\n            nn.BatchNorm2d(128),\n            nn.ReLU(),\n            nn.Conv2d(128, 128, kernel_size\u003d4, stride\u003d1),\n            nn.BatchNorm2d(128),\n            nn.ReLU(),\n            nn.Conv2d(128, 128, kernel_size\u003d4, stride\u003d1),\n            nn.BatchNorm2d(128),\n            nn.ReLU(),\n            nn.Conv2d(128, 10, kernel_size\u003d4, stride\u003d1),\n            nn.BatchNorm2d(10),\n            nn.ReLU(),\n            View(40)\n        )\n        self.head \u003d nn.Sequential(\n            nn.Linear(40 * 2, 20),\n            nn.ReLU(),\n            nn.Linear(20, 10),\n            nn.ReLU(),\n            nn.Linear(10, 1)\n        )\n\n    def encode(self, x):\n        return self.trunk(x)\n\n    def forward(self, x, x_prime):\n        x, x_prime \u003d torch.broadcast_tensors(x, x_prime)\n        *b, C, H, W \u003d x.shape\n        _ \u003d torch.cat([self.trunk(x), self.trunk(x_prime)], dim\u003d-1)\n        print(b)\n        return self.head(_).reshape(*b, 1)",
      "metadata": {
        "pycharm": {
          "metadata": false,
          "name": "#%%\n",
          "is_executing": false
        }
      }
    },
    {
      "cell_type": "code",
      "execution_count": 37,
      "outputs": [],
      "source": "m \u003d GlobalMetricConvDeepKernel(1, 32)\n",
      "metadata": {
        "pycharm": {
          "metadata": false,
          "name": "#%%\n",
          "is_executing": false
        }
      }
    },
    {
      "cell_type": "code",
      "execution_count": 38,
      "outputs": [
        {
          "name": "stdout",
          "text": [
            "[7]\ntorch.Size([7, 1])\n"
          ],
          "output_type": "stream"
        }
      ],
      "source": "_ \u003d m(img_1, img_2)\nprint(_.shape)\n",
      "metadata": {
        "pycharm": {
          "metadata": false,
          "name": "#%%\n",
          "is_executing": false
        }
      }
    },
    {
      "cell_type": "code",
      "execution_count": null,
      "outputs": [],
      "source": "\n",
      "metadata": {
        "pycharm": {
          "metadata": false,
          "name": "#%%\n"
        }
      }
    }
  ],
  "metadata": {
    "language_info": {
      "codemirror_mode": {
        "name": "ipython",
        "version": 2
      },
      "file_extension": ".py",
      "mimetype": "text/x-python",
      "name": "python",
      "nbconvert_exporter": "python",
      "pygments_lexer": "ipython2",
      "version": "2.7.6"
    },
    "kernelspec": {
      "name": "python3",
      "language": "python",
      "display_name": "Python 3"
    },
    "stem_cell": {
      "cell_type": "raw",
      "source": "",
      "metadata": {
        "pycharm": {
          "metadata": false
        }
      }
    }
  },
  "nbformat": 4,
  "nbformat_minor": 0
}