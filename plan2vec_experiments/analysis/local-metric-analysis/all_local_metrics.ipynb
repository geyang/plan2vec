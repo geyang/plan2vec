{
 "cells": [
  {
   "cell_type": "code",
   "execution_count": 1,
   "metadata": {
    "collapsed": true,
    "pycharm": {
     "is_executing": false,
     "name": "#%%\n"
    }
   },
   "outputs": [
    {
     "name": "stdout",
     "text": [
      "\n",
      "type gtar >/dev/null 2>&1 && alias tar=`which gtar`\n",
      "mkdir -p '/private/var/folders/gw/v1rb_zzx3f7cr49yc1hdt83w0000gn/T/tmp3e_qoae3'\n",
      "# Do not use absolute path in tar.\n",
      "tar --exclude='data' --exclude='samples' --exclude='figures' --exclude='results' --exclude='analysis' --exclude='*__pycache__' --exclude='*.git' --exclude='*.idea' --exclude='*.egg-info' --exclude='*.pkl' -czf '/private/var/folders/gw/v1rb_zzx3f7cr49yc1hdt83w0000gn/T/tmp3e_qoae3/8714b92d-eb42-49ec-a8e3-9e7be6358bab.tar' -C '/Users/ge/fair/cpc-belief/.' .\n",
      "sshpass -p 'temppassword69' rsync -az -e ssh /private/var/folders/gw/v1rb_zzx3f7cr49yc1hdt83w0000gn/T/tmp3e_qoae3/8714b92d-eb42-49ec-a8e3-9e7be6358bab.tar bstadie@vremote1.vectorinstitute.ai:/tmp/8714b92d-eb42-49ec-a8e3-9e7be6358bab.tar\n",
      "\n",
      "\n",
      "type gtar >/dev/null 2>&1 && alias tar=`which gtar`\n",
      "mkdir -p '/private/var/folders/gw/v1rb_zzx3f7cr49yc1hdt83w0000gn/T/tmpxf_hfyje'\n",
      "# Do not use absolute path in tar.\n",
      "tar --exclude='data' --exclude='samples' --exclude='figures' --exclude='results' --exclude='analysis' --exclude='*__pycache__' --exclude='*.git' --exclude='*.idea' --exclude='*.egg-info' --exclude='*.pkl' -czf '/private/var/folders/gw/v1rb_zzx3f7cr49yc1hdt83w0000gn/T/tmpxf_hfyje/2041dcfd-83ee-438e-8754-d26478571c3f.tar' -C '/Users/ge/fair/cpc-belief/../ge_world' .\n",
      "sshpass -p 'temppassword69' rsync -az -e ssh /private/var/folders/gw/v1rb_zzx3f7cr49yc1hdt83w0000gn/T/tmpxf_hfyje/2041dcfd-83ee-438e-8754-d26478571c3f.tar bstadie@vremote1.vectorinstitute.ai:/tmp/2041dcfd-83ee-438e-8754-d26478571c3f.tar\n",
      "\n",
      "\n",
      "type gtar >/dev/null 2>&1 && alias tar=`which gtar`\n",
      "mkdir -p '/private/var/folders/gw/v1rb_zzx3f7cr49yc1hdt83w0000gn/T/tmp8n4ez4tv'\n",
      "# Do not use absolute path in tar.\n",
      "tar --exclude='data' --exclude='processed-data' --exclude='figures' --exclude='*__pycache__' --exclude='*.git' --exclude='*.idea' --exclude='*.egg-info' --exclude='*.npy' --exclude='*.png' -czf '/private/var/folders/gw/v1rb_zzx3f7cr49yc1hdt83w0000gn/T/tmp8n4ez4tv/e26a6ff6-ccbb-44ac-aae0-2914b2853673.tar' -C '/Users/ge/fair/cpc-belief/../streetlearn' .\n",
      "sshpass -p 'temppassword69' rsync -az -e ssh /private/var/folders/gw/v1rb_zzx3f7cr49yc1hdt83w0000gn/T/tmp8n4ez4tv/e26a6ff6-ccbb-44ac-aae0-2914b2853673.tar bstadie@vremote1.vectorinstitute.ai:/tmp/e26a6ff6-ccbb-44ac-aae0-2914b2853673.tar\n",
      "\n",
      "this package is already uploaded\n",
      "this package is already uploaded\n",
      "this package is already uploaded\n"
     ],
     "output_type": "stream"
    }
   ],
   "source": [
    "%load_ext autoreload\n",
    "%autoreload 2\n",
    "\n",
    "import jaynes\n",
    "from functools import partial\n",
    "from params_proto.neo_hyper import Sweep\n",
    "from plan2vec_experiments import thunk, config_charts\n",
    "\n",
    "jaynes.config(verbose=True)\n",
    "jaynes.config(launch=dict(console_mode=True), verbose=False)\n",
    "\n",
    "console_thunk = partial(thunk, __silent=True, __file=\"all_local_metric.ipynb\")"
   ]
  },
  {
   "cell_type": "code",
   "execution_count": 2,
   "outputs": [],
   "source": [
    "seeds = [i * 100 for i in range(5)]"
   ],
   "metadata": {
    "collapsed": false,
    "pycharm": {
     "name": "#%%\n",
     "is_executing": false
    }
   }
  },
  {
   "cell_type": "code",
   "execution_count": 3,
   "outputs": [
    {
     "name": "stdout",
     "text": [
      "\u001b[33mcreating new logging client...\u001b[0m \u001b[32m✓ done\u001b[0m\n",
      "Dashboard: http://localhost:3001/geyang/plan2vec/2019/12-16/analysis/local-metric-analysis/all_local_metric/10.02/img_maze/GoalMassDiscreteImgIdLess-v0/03.314708\n",
      "Log_directory: http://54.71.92.65:8081\n",
      "\u001b[32mFound ml-dash config file \n",
      "charts/img_maze.charts.yml\u001b[0m\n",
      "\u001b[33mcreating new logging client...\u001b[0m \u001b[32m✓ done\u001b[0m\n",
      "Dashboard: http://localhost:3001/geyang/plan2vec/2019/12-16/analysis/local-metric-analysis/all_local_metric/10.02/img_maze/GoalMassDiscreteImgIdLess-v0/07.995707\n",
      "Log_directory: http://54.71.92.65:8081\n",
      "\u001b[32mFound ml-dash config file \n",
      "charts/img_maze.charts.yml\u001b[0m\n",
      "\u001b[33mcreating new logging client...\u001b[0m \u001b[32m✓ done\u001b[0m\n",
      "Dashboard: http://localhost:3001/geyang/plan2vec/2019/12-16/analysis/local-metric-analysis/all_local_metric/10.02/img_maze/GoalMassDiscreteImgIdLess-v0/09.807799\n",
      "Log_directory: http://54.71.92.65:8081\n",
      "\u001b[32mFound ml-dash config file \n",
      "charts/img_maze.charts.yml\u001b[0m\n",
      "\u001b[33mcreating new logging client...\u001b[0m \u001b[32m✓ done\u001b[0m\n",
      "Dashboard: http://localhost:3001/geyang/plan2vec/2019/12-16/analysis/local-metric-analysis/all_local_metric/10.02/img_maze/GoalMassDiscreteImgIdLess-v0/11.665916\n",
      "Log_directory: http://54.71.92.65:8081\n",
      "\u001b[32mFound ml-dash config file \n",
      "charts/img_maze.charts.yml\u001b[0m\n",
      "\u001b[33mcreating new logging client...\u001b[0m \u001b[32m✓ done\u001b[0m\n",
      "Dashboard: http://localhost:3001/geyang/plan2vec/2019/12-16/analysis/local-metric-analysis/all_local_metric/10.02/img_maze/GoalMassDiscreteImgIdLess-v0/13.502280\n",
      "Log_directory: http://54.71.92.65:8081\n",
      "\u001b[32mFound ml-dash config file \n",
      "charts/img_maze.charts.yml\u001b[0m\n",
      "\u001b[33mcreating new logging client...\u001b[0m \u001b[32m✓ done\u001b[0m\n",
      "Dashboard: http://localhost:3001/geyang/plan2vec/2019/12-16/analysis/local-metric-analysis/all_local_metric/10.02/img_maze/%E5%9B%9EMazeDiscreteImgIdLess-v0/15.346525\n",
      "Log_directory: http://54.71.92.65:8081\n",
      "\u001b[32mFound ml-dash config file \n",
      "charts/img_maze.charts.yml\u001b[0m\n",
      "\u001b[33mcreating new logging client...\u001b[0m \u001b[32m✓ done\u001b[0m\n",
      "Dashboard: http://localhost:3001/geyang/plan2vec/2019/12-16/analysis/local-metric-analysis/all_local_metric/10.02/img_maze/%E5%9B%9EMazeDiscreteImgIdLess-v0/17.171794\n",
      "Log_directory: http://54.71.92.65:8081\n",
      "\u001b[32mFound ml-dash config file \n",
      "charts/img_maze.charts.yml\u001b[0m\n",
      "\u001b[33mcreating new logging client...\u001b[0m \u001b[32m✓ done\u001b[0m\n",
      "Dashboard: http://localhost:3001/geyang/plan2vec/2019/12-16/analysis/local-metric-analysis/all_local_metric/10.02/img_maze/%E5%9B%9EMazeDiscreteImgIdLess-v0/18.951689\n",
      "Log_directory: http://54.71.92.65:8081\n",
      "\u001b[32mFound ml-dash config file \n",
      "charts/img_maze.charts.yml\u001b[0m\n",
      "\u001b[33mcreating new logging client...\u001b[0m \u001b[32m✓ done\u001b[0m\n",
      "Dashboard: http://localhost:3001/geyang/plan2vec/2019/12-16/analysis/local-metric-analysis/all_local_metric/10.02/img_maze/%E5%9B%9EMazeDiscreteImgIdLess-v0/20.722254\n",
      "Log_directory: http://54.71.92.65:8081\n",
      "\u001b[32mFound ml-dash config file \n",
      "charts/img_maze.charts.yml\u001b[0m\n",
      "\u001b[33mcreating new logging client...\u001b[0m \u001b[32m✓ done\u001b[0m\n",
      "Dashboard: http://localhost:3001/geyang/plan2vec/2019/12-16/analysis/local-metric-analysis/all_local_metric/10.02/img_maze/%E5%9B%9EMazeDiscreteImgIdLess-v0/22.600890\n",
      "Log_directory: http://54.71.92.65:8081\n",
      "\u001b[32mFound ml-dash config file \n",
      "charts/img_maze.charts.yml\u001b[0m\n",
      "\u001b[33mcreating new logging client...\u001b[0m \u001b[32m✓ done\u001b[0m\n",
      "Dashboard: http://localhost:3001/geyang/plan2vec/2019/12-16/analysis/local-metric-analysis/all_local_metric/10.02/img_maze/CMazeDiscreteImgIdLess-v0/24.426937\n",
      "Log_directory: http://54.71.92.65:8081\n",
      "\u001b[32mFound ml-dash config file \n",
      "charts/img_maze.charts.yml\u001b[0m\n",
      "\u001b[33mcreating new logging client...\u001b[0m \u001b[32m✓ done\u001b[0m\n",
      "Dashboard: http://localhost:3001/geyang/plan2vec/2019/12-16/analysis/local-metric-analysis/all_local_metric/10.02/img_maze/CMazeDiscreteImgIdLess-v0/26.201537\n",
      "Log_directory: http://54.71.92.65:8081\n",
      "\u001b[32mFound ml-dash config file \n",
      "charts/img_maze.charts.yml\u001b[0m\n",
      "\u001b[33mcreating new logging client...\u001b[0m \u001b[32m✓ done\u001b[0m\n",
      "Dashboard: http://localhost:3001/geyang/plan2vec/2019/12-16/analysis/local-metric-analysis/all_local_metric/10.02/img_maze/CMazeDiscreteImgIdLess-v0/27.972675\n",
      "Log_directory: http://54.71.92.65:8081\n",
      "\u001b[32mFound ml-dash config file \n",
      "charts/img_maze.charts.yml\u001b[0m\n",
      "\u001b[33mcreating new logging client...\u001b[0m \u001b[32m✓ done\u001b[0m\n",
      "Dashboard: http://localhost:3001/geyang/plan2vec/2019/12-16/analysis/local-metric-analysis/all_local_metric/10.02/img_maze/CMazeDiscreteImgIdLess-v0/29.772387\n",
      "Log_directory: http://54.71.92.65:8081\n",
      "\u001b[32mFound ml-dash config file \n",
      "charts/img_maze.charts.yml\u001b[0m\n",
      "\u001b[33mcreating new logging client...\u001b[0m \u001b[32m✓ done\u001b[0m\n",
      "Dashboard: http://localhost:3001/geyang/plan2vec/2019/12-16/analysis/local-metric-analysis/all_local_metric/10.02/img_maze/CMazeDiscreteImgIdLess-v0/31.620286\n",
      "Log_directory: http://54.71.92.65:8081\n",
      "\u001b[32mFound ml-dash config file \n",
      "charts/img_maze.charts.yml\u001b[0m\n",
      "\u001b[32mJaynes pipe-back is now listening...\u001b[0m\n",
      "\u001b[32mjaynes.listen(timeout=1) is now timed out. remote routine is still running.\u001b[0m\n"
     ],
     "output_type": "stream"
    }
   ],
   "source": [
    "from plan2vec.plan2vec.local_metric_img import main, Args\n",
    "\n",
    "with Sweep(Args) as sweep:\n",
    "    Args.num_epochs = 40\n",
    "    with sweep.product:\n",
    "        Args.env_id = [\n",
    "            \"GoalMassDiscreteImgIdLess-v0\",\n",
    "            \"回MazeDiscreteImgIdLess-v0\",\n",
    "            \"CMazeDiscreteImgIdLess-v0\",\n",
    "        ]\n",
    "        Args.seed = seeds\n",
    "\n",
    "for _Args in sweep:\n",
    "    jaynes.run(console_thunk(main, __prefix=f\"img_maze/{Args.env_id}\", **_Args))\n",
    "    config_charts(path=\"charts/img_maze.charts.yml\")\n",
    "\n",
    "jaynes.listen(1)"
   ],
   "metadata": {
    "collapsed": false,
    "pycharm": {
     "name": "#%%\n",
     "is_executing": false
    }
   }
  },
  {
   "cell_type": "code",
   "execution_count": 4,
   "outputs": [
    {
     "name": "stdout",
     "text": [
      "\u001b[33mcreating new logging client...\u001b[0m \u001b[32m✓ done\u001b[0m\n",
      "Dashboard: http://localhost:3001/geyang/plan2vec/2019/12-16/analysis/local-metric-analysis/all_local_metric/02.26/rope/K-%281%29/28.883938\n",
      "Log_directory: http://54.71.92.65:8081\n",
      "\u001b[32mFound ml-dash config file \n",
      "charts/rope.charts.yml\u001b[0m\n",
      "\u001b[33mcreating new logging client...\u001b[0m \u001b[32m✓ done\u001b[0m\n",
      "Dashboard: http://localhost:3001/geyang/plan2vec/2019/12-16/analysis/local-metric-analysis/all_local_metric/02.26/rope/K-%281%29/30.770096\n",
      "Log_directory: http://54.71.92.65:8081\n",
      "\u001b[32mFound ml-dash config file \n",
      "charts/rope.charts.yml\u001b[0m\n",
      "\u001b[33mcreating new logging client...\u001b[0m \u001b[32m✓ done\u001b[0m\n",
      "Dashboard: http://localhost:3001/geyang/plan2vec/2019/12-16/analysis/local-metric-analysis/all_local_metric/02.26/rope/K-%281%29/32.590673\n",
      "Log_directory: http://54.71.92.65:8081\n",
      "\u001b[32mFound ml-dash config file \n",
      "charts/rope.charts.yml\u001b[0m\n",
      "\u001b[33mcreating new logging client...\u001b[0m \u001b[32m✓ done\u001b[0m\n",
      "Dashboard: http://localhost:3001/geyang/plan2vec/2019/12-16/analysis/local-metric-analysis/all_local_metric/02.26/rope/K-%281%29/34.413608\n",
      "Log_directory: http://54.71.92.65:8081\n",
      "\u001b[32mFound ml-dash config file \n",
      "charts/rope.charts.yml\u001b[0m\n",
      "\u001b[33mcreating new logging client...\u001b[0m \u001b[32m✓ done\u001b[0m\n",
      "Dashboard: http://localhost:3001/geyang/plan2vec/2019/12-16/analysis/local-metric-analysis/all_local_metric/02.26/rope/K-%281%29/36.201837\n",
      "Log_directory: http://54.71.92.65:8081\n",
      "\u001b[32mFound ml-dash config file \n",
      "charts/rope.charts.yml\u001b[0m\n",
      "\u001b[32mJaynes pipe-back is now listening...\u001b[0m\n",
      "\u001b[32mjaynes.listen(timeout=1) is now timed out. remote routine is still running.\u001b[0m\n"
     ],
     "output_type": "stream"
    }
   ],
   "source": [
    "from plan2vec.plan2vec.local_metric_rope import main, Args\n",
    "\n",
    "with Sweep(Args) as sweep:\n",
    "    Args.num_epochs = 5\n",
    "    Args.K = 1\n",
    "    with sweep.product:\n",
    "        Args.seed = seeds\n",
    "\n",
    "for _Args in sweep:\n",
    "    _ = console_thunk(main, __prefix=f\"{Args.env_id}/K-({Args.K})\", **_Args)\n",
    "    config_charts(path=\"charts/rope.charts.yml\")\n",
    "    jaynes.run(_)\n",
    "\n",
    "jaynes.listen(1)"
   ],
   "metadata": {
    "collapsed": false,
    "pycharm": {
     "name": "#%%\n",
     "is_executing": false
    }
   }
  },
  {
   "cell_type": "code",
   "execution_count": 5,
   "outputs": [
    {
     "name": "stdout",
     "text": [
      "\u001b[33mcreating new logging client...\u001b[0m \u001b[32m✓ done\u001b[0m\n",
      "Dashboard: http://localhost:3001/geyang/plan2vec/2019/12-16/analysis/local-metric-analysis/all_local_metric/02.26/streetlearn/ResNet18L2/lr-%281e-05%29/39.206687\n",
      "Log_directory: http://54.71.92.65:8081\n",
      "\u001b[32mFound ml-dash config file \n",
      "charts/streetlearn.charts.yml\u001b[0m\n",
      "\u001b[33mcreating new logging client...\u001b[0m \u001b[32m✓ done\u001b[0m\n",
      "Dashboard: http://localhost:3001/geyang/plan2vec/2019/12-16/analysis/local-metric-analysis/all_local_metric/02.26/streetlearn/ResNet18L2/lr-%281e-05%29/41.078741\n",
      "Log_directory: http://54.71.92.65:8081\n",
      "\u001b[32mFound ml-dash config file \n",
      "charts/streetlearn.charts.yml\u001b[0m\n",
      "\u001b[33mcreating new logging client...\u001b[0m \u001b[32m✓ done\u001b[0m\n",
      "Dashboard: http://localhost:3001/geyang/plan2vec/2019/12-16/analysis/local-metric-analysis/all_local_metric/02.26/streetlearn/ResNet18L2/lr-%281e-05%29/43.084514\n",
      "Log_directory: http://54.71.92.65:8081\n",
      "\u001b[32mFound ml-dash config file \n",
      "charts/streetlearn.charts.yml\u001b[0m\n",
      "\u001b[33mcreating new logging client...\u001b[0m \u001b[32m✓ done\u001b[0m\n",
      "Dashboard: http://localhost:3001/geyang/plan2vec/2019/12-16/analysis/local-metric-analysis/all_local_metric/02.26/streetlearn/ResNet18L2/lr-%281e-05%29/45.063410\n",
      "Log_directory: http://54.71.92.65:8081\n",
      "\u001b[32mFound ml-dash config file \n",
      "charts/streetlearn.charts.yml\u001b[0m\n",
      "\u001b[33mcreating new logging client...\u001b[0m \u001b[32m✓ done\u001b[0m\n",
      "Dashboard: http://localhost:3001/geyang/plan2vec/2019/12-16/analysis/local-metric-analysis/all_local_metric/02.26/streetlearn/ResNet18L2/lr-%281e-05%29/46.871195\n",
      "Log_directory: http://54.71.92.65:8081\n",
      "\u001b[32mFound ml-dash config file \n",
      "charts/streetlearn.charts.yml\u001b[0m\n",
      "\u001b[32mJaynes pipe-back is now listening...\u001b[0m\n",
      "\u001b[32mjaynes.listen(timeout=1) is now timed out. remote routine is still running.\u001b[0m\n"
     ],
     "output_type": "stream"
    }
   ],
   "source": [
    "from plan2vec.plan2vec.local_metric_streetlearn import main, Args\n",
    "\n",
    "with Sweep(Args) as sweep:\n",
    "    Args.num_epochs = 400\n",
    "    Args.checkpoint_interval = 100\n",
    "    Args.lr = 1e-5\n",
    "    Args.data_path = f\"~/fair/streetlearn/processed-data/manhattan-xl\"\n",
    "    Args.local_metric = \"ResNet18L2\"\n",
    "\n",
    "    with sweep.product:\n",
    "        # Args.local_metric = [\"LocalMetricConvDeep\", \"ResNet18L2\"]\n",
    "        Args.seed = seeds\n",
    "\n",
    "for _Args in sweep:\n",
    "    _ = console_thunk(main, __prefix=f\"{Args.env_id}/{Args.local_metric}/lr-({Args.lr})\", **_Args)\n",
    "    config_charts(path=\"charts/streetlearn.charts.yml\")\n",
    "    jaynes.run(_)\n",
    "\n",
    "jaynes.listen(1)\n"
   ],
   "metadata": {
    "collapsed": false,
    "pycharm": {
     "name": "#%%\n",
     "is_executing": false
    }
   }
  },
  {
   "cell_type": "markdown",
   "source": [
    "### Now Analyze the Data\n",
    "\n",
    "1. load all data\n",
    "2. make table of range"
   ],
   "metadata": {
    "collapsed": false,
    "pycharm": {
     "name": "#%% md\n"
    }
   }
  },
  {
   "cell_type": "code",
   "execution_count": null,
   "outputs": [],
   "source": [
    "\n",
    "\n"
   ],
   "metadata": {
    "collapsed": false,
    "pycharm": {
     "name": "#%%\n"
    }
   }
  },
  {
   "cell_type": "markdown",
   "source": [
    "What are the keys?\n",
    "\n",
    "Args.env_id <== facet\n",
    "Args.seed <== group by.\n",
    "\n",
    "Table View"
   ],
   "metadata": {
    "collapsed": false
   }
  },
  {
   "cell_type": "code",
   "execution_count": null,
   "outputs": [],
   "source": [
    "from multiprocessing import Pool\n",
    "\n",
    "pool = Pool(10)"
   ],
   "metadata": {
    "collapsed": false,
    "pycharm": {
     "name": "#%%\n"
    }
   }
  },
  {
   "cell_type": "code",
   "execution_count": 7,
   "outputs": [
    {
     "name": "stdout",
     "text": [
      "══════════════════════════════════════════\n",
      "\u001b[33m        run         \u001b[0m\n",
      "────────────────────┬─────────────────────\n",
      "     createTime     │ 2019-12-16 00:09:37.071465+00:00\n",
      "       prefix       │ geyang/plan2vec/2019/12-15/analysis/local-metric-analysis/analysis\n",
      "════════════════════╧═════════════════════\n",
      "geyang/plan2vec/2019/12-15/analysis/local-metric-analysis\n"
     ],
     "output_type": "stream"
    }
   ],
   "source": [
    "from plan2vec_experiments import RUN\n",
    "from ml_logger import logger\n",
    "\n",
    "logger.configure(RUN.server, prefix=\"geyang/plan2vec/2019/12-15/analysis/local-metric-analysis/analysis\", silent=True)\n",
    "\n",
    "with logger.PrefixContext(logger.prefix, \"..\"):\n",
    "    print(logger.prefix)\n",
    "    exps = logger.glob(\"**/parameters.pkl\")"
   ],
   "metadata": {
    "collapsed": false,
    "pycharm": {
     "name": "#%% load the list of experiments\n",
     "is_executing": false
    }
   }
  },
  {
   "cell_type": "code",
   "execution_count": null,
   "outputs": [],
   "source": [
    "local_metric_exps = [p for p in exps if not p.startswith('analysis')]\n",
    "print(*local_metric_exps, sep=\"\\n\")"
   ],
   "metadata": {
    "collapsed": false,
    "pycharm": {
     "name": "#%%\n"
    }
   }
  },
  {
   "cell_type": "code",
   "execution_count": null,
   "outputs": [],
   "source": [
    "from os.path import dirname\n",
    "\n",
    "table = []\n",
    "\n",
    "for exp_path in local_metric_exps:\n",
    "    with logger.PrefixContext(dirname(exp_path)):\n",
    "        env_id = logger.get_parameters('Args.env_id', silent=True)\n",
    "        print(env_id)"
   ],
   "metadata": {
    "collapsed": false,
    "pycharm": {
     "name": "#%%\n"
    }
   }
  },
  {
   "cell_type": "code",
   "execution_count": null,
   "outputs": [],
   "source": [
    "@console_thunk\n",
    "def grab_accuracy_table():\n",
    "    from ml_logger import logger\n",
    "\n",
    "    with logger.PrefixContext(\"/geyang/plan2vec/2019/12-15/analysis/local-metric-analysis\"):\n",
    "        exps = logger.glob(\"**/parameters.pkl\")\n",
    "        for path in exps:\n",
    "            if path.startswith('analysis'):\n",
    "                continue\n",
    "            print(path)\n",
    "            try:\n",
    "                env_id = logger.get_parameters(\"Args.env_id\", path=path)\n",
    "                accuracy = logger.get_metrics(\"accuracy-1.5/mean\", path=path.replace('parameters', 'metrics'))\n",
    "                tail = accuracy[-100:]\n",
    "                logger.log(env_id=env_id, accuracy=tail.mean(), pm25=tail.quantile(.25), pm75=tail.quantile(0.75),\n",
    "                           flush=True)\n",
    "            except Exception as e:\n",
    "                print(\">>>>\", e)\n",
    "                pass"
   ],
   "metadata": {
    "collapsed": false,
    "pycharm": {
     "name": "#%%\n"
    }
   }
  },
  {
   "cell_type": "code",
   "execution_count": null,
   "outputs": [],
   "source": [
    "\n",
    "\n",
    "\n",
    "\n",
    "\n",
    "\n",
    "\n",
    "\n",
    "\n",
    "\n",
    "\n",
    "\n",
    "\n",
    "\n",
    "\n",
    "\n",
    "\n",
    "\n",
    "\n",
    "\n",
    "\n",
    "\n",
    "\n",
    "\n",
    "\n",
    "\n",
    "\n",
    "\n",
    "\n",
    "\n",
    "\n",
    "\n",
    "\n",
    "\n",
    "\n",
    "\n",
    "\n",
    "\n",
    "\n"
   ],
   "metadata": {
    "collapsed": false,
    "pycharm": {
     "name": "#%%\n"
    }
   }
  }
 ],
 "metadata": {
  "kernelspec": {
   "name": "python3",
   "language": "python",
   "display_name": "Python 3"
  },
  "language_info": {
   "codemirror_mode": {
    "name": "ipython",
    "version": 2
   },
   "file_extension": ".py",
   "mimetype": "text/x-python",
   "name": "python",
   "nbconvert_exporter": "python",
   "pygments_lexer": "ipython2",
   "version": "2.7.6"
  },
  "pycharm": {
   "stem_cell": {
    "cell_type": "raw",
    "source": [],
    "metadata": {
     "collapsed": false
    }
   }
  }
 },
 "nbformat": 4,
 "nbformat_minor": 0
}