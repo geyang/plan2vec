{
 "cells": [
  {
   "cell_type": "markdown",
   "metadata": {
    "collapsed": true,
    "pycharm": {
     "name": "#%% md\n"
    }
   },
   "source": [
    "What are the keys?\n",
    "\n",
    "Args.env_id <== facet\n",
    "Args.seed <== group by.\n",
    "\n",
    "Table View"
   ]
  },
  {
   "cell_type": "code",
   "source": [
    "%load_ext autoreload\n",
    "%autoreload 2\n",
    "\n",
    "from plan2vec_experiments import thunk\n",
    "# from multiprocessing import Pool\n",
    "# \n",
    "# pool = Pool(10)"
   ],
   "metadata": {
    "collapsed": false,
    "pycharm": {
     "name": "#%%\n",
     "is_executing": false
    }
   },
   "execution_count": 1,
   "outputs": []
  },
  {
   "cell_type": "code",
   "execution_count": 2,
   "outputs": [
    {
     "name": "stdout",
     "text": [
      "\u001b[33mcreating new logging client...\u001b[0m \u001b[32m✓ done\u001b[0m\n",
      "Dashboard: http://localhost:3001/geyang/plan2vec/2019/12-16/analysis/local-metric-analysis/analysis\n",
      "Log_directory: http://54.71.92.65:8081\n",
      "══════════════════════════════════════════\n",
      "\u001b[33m        run         \u001b[0m\n",
      "────────────────────┬─────────────────────\n",
      "     createTime     │ 2019-12-17 00:21:45.545505+00:00\n",
      "       prefix       │ geyang/plan2vec/2019/12-16/analysis/local-metric-analysis/analysis\n",
      "════════════════════╧═════════════════════\n",
      "geyang/plan2vec/2019/12-16/analysis/local-metric-analysis\n"
     ],
     "output_type": "stream"
    }
   ],
   "source": [
    "from plan2vec_experiments import RUN\n",
    "from ml_logger import logger\n",
    "\n",
    "logger.configure(RUN.server, prefix=\"geyang/plan2vec/2019/12-16/analysis/local-metric-analysis/analysis\")\n",
    "\n",
    "with logger.PrefixContext(logger.prefix, \"..\"):\n",
    "    print(logger.prefix)\n",
    "    exps = logger.glob(\"**/parameters.pkl\")"
   ],
   "metadata": {
    "collapsed": false,
    "pycharm": {
     "name": "#%% load the list of experiments\n",
     "is_executing": false
    }
   }
  },
  {
   "cell_type": "code",
   "execution_count": 3,
   "outputs": [
    {
     "name": "stdout",
     "text": [
      "all_local_metric/02.26/rope/K-(1)/34.413608/parameters.pkl\n",
      "all_local_metric/02.26/rope/K-(1)/30.770096/parameters.pkl\n",
      "all_local_metric/02.26/rope/K-(1)/28.883938/parameters.pkl\n",
      "all_local_metric/02.26/rope/K-(1)/32.590673/parameters.pkl\n",
      "all_local_metric/02.26/rope/K-(1)/36.201837/parameters.pkl\n",
      "all_local_metric/02.26/streetlearn/ResNet18L2/lr-(1e-05)/41.078741/parameters.pkl\n",
      "all_local_metric/02.26/streetlearn/ResNet18L2/lr-(1e-05)/43.084514/parameters.pkl\n",
      "all_local_metric/02.26/streetlearn/ResNet18L2/lr-(1e-05)/46.871195/parameters.pkl\n",
      "all_local_metric/02.26/streetlearn/ResNet18L2/lr-(1e-05)/45.063410/parameters.pkl\n",
      "all_local_metric/02.26/streetlearn/ResNet18L2/lr-(1e-05)/39.206687/parameters.pkl\n",
      "all_local_metric/12.28/streetlearn/LocalMetricConvDeep/lr-(1e-05)/17.656891/parameters.pkl\n",
      "all_local_metric/12.28/streetlearn/ResNet18L2/lr-(1e-05)/24.711204/parameters.pkl\n",
      "all_local_metric/11.55/rope/K-(1)/33.474485/parameters.pkl\n",
      "all_local_metric/11.55/rope/K-(1)/37.085705/parameters.pkl\n",
      "all_local_metric/11.55/rope/K-(1)/35.235573/parameters.pkl\n",
      "all_local_metric/11.55/rope/K-(1)/31.594129/parameters.pkl\n",
      "all_local_metric/11.55/rope/K-(1)/29.416047/parameters.pkl\n",
      "all_local_metric/11.55/img_maze/回MazeDiscreteImgIdLess-v0/06.453190/parameters.pkl\n",
      "all_local_metric/11.55/img_maze/回MazeDiscreteImgIdLess-v0/04.559676/parameters.pkl\n",
      "all_local_metric/11.55/img_maze/回MazeDiscreteImgIdLess-v0/08.593306/parameters.pkl\n",
      "all_local_metric/11.55/img_maze/回MazeDiscreteImgIdLess-v0/02.755501/parameters.pkl\n",
      "all_local_metric/11.55/img_maze/回MazeDiscreteImgIdLess-v0/18.657998/parameters.pkl\n",
      "all_local_metric/11.55/img_maze/GoalMassDiscreteImgIdLess-v0/57.343873/parameters.pkl\n",
      "all_local_metric/11.55/img_maze/GoalMassDiscreteImgIdLess-v0/59.243253/parameters.pkl\n",
      "all_local_metric/11.55/img_maze/GoalMassDiscreteImgIdLess-v0/55.375776/parameters.pkl\n",
      "all_local_metric/11.55/img_maze/GoalMassDiscreteImgIdLess-v0/01.044009/parameters.pkl\n",
      "all_local_metric/11.55/img_maze/GoalMassDiscreteImgIdLess-v0/45.538823/parameters.pkl\n",
      "all_local_metric/11.55/img_maze/CMazeDiscreteImgIdLess-v0/25.756335/parameters.pkl\n",
      "all_local_metric/11.55/img_maze/CMazeDiscreteImgIdLess-v0/27.594780/parameters.pkl\n",
      "all_local_metric/11.55/img_maze/CMazeDiscreteImgIdLess-v0/20.386952/parameters.pkl\n",
      "all_local_metric/11.55/img_maze/CMazeDiscreteImgIdLess-v0/22.120194/parameters.pkl\n",
      "all_local_metric/11.55/img_maze/CMazeDiscreteImgIdLess-v0/23.849376/parameters.pkl\n"
     ],
     "output_type": "stream"
    }
   ],
   "source": [
    "local_metric_exps = [p for p in exps if not p.startswith('analysis')]\n",
    "print(*local_metric_exps, sep=\"\\n\")"
   ],
   "metadata": {
    "collapsed": false,
    "pycharm": {
     "name": "#%%\n",
     "is_executing": false
    }
   }
  },
  {
   "cell_type": "code",
   "execution_count": 12,
   "outputs": [
    {
     "name": "stderr",
     "text": [
      "100%|██████████| 32/32 [00:58<00:00,  1.83s/it]\n"
     ],
     "output_type": "stream"
    },
    {
     "name": "stdout",
     "text": [
      "all_local_metric/12.28/streetlearn/ResNet18L2/lr-(1e-05)/24.711204/parameters.pkl\n",
      "'NoneType' object is not subscriptable\n",
      "all_local_metric/11.55/img_maze/回MazeDiscreteImgIdLess-v0/02.755501/parameters.pkl\n",
      "'NoneType' object is not subscriptable\n",
      "all_local_metric/11.55/img_maze/GoalMassDiscreteImgIdLess-v0/01.044009/parameters.pkl\n",
      "'NoneType' object is not subscriptable\n"
     ],
     "output_type": "stream"
    }
   ],
   "source": [
    "from os.path import dirname\n",
    "from tqdm import tqdm\n",
    "\n",
    "logger.summary_cache.clear()\n",
    "\n",
    "for exp_path in tqdm(local_metric_exps):\n",
    "    with logger.PrefixContext(logger.prefix, \"..\", dirname(exp_path)):\n",
    "        try:\n",
    "            env_id, local_metric = logger.get_parameters('Args.env_id', \"Args.local_metric\", default=None, silent=True)\n",
    "            acc_15, acc_11, eval_acc_15, eval_acc_11 = \\\n",
    "                logger.get_metrics(\"accuracy-1.5/mean\", \"accuracy-1.1/mean\", \n",
    "                                   \"eval/accuracy-1.5/mean\", \"eval/accuracy-1.1/mean\", \n",
    "                                   default=None)\n",
    "            logger.store_metrics({\"prefix\":logger.prefix, \n",
    "                                  \"accuracy-1.1\": acc_11[-20:].to_numpy(),\n",
    "                                  \"accuracy-1.5\": acc_15[-20:].to_numpy(),\n",
    "                                  \"eval/accuracy-1.1\": eval_acc_11[-20:].to_numpy(),\n",
    "                                  \"eval/accuracy-1.5\": eval_acc_15[-20:].to_numpy()\n",
    "                                  },  env_id=env_id)\n",
    "            # logger.peek_stored_metrics(len=3)\n",
    "        except Exception as e:\n",
    "            print(exp_path)\n",
    "            print(e)\n",
    "            pass"
   ],
   "metadata": {
    "collapsed": false,
    "pycharm": {
     "name": "#%%\n",
     "is_executing": false
    }
   }
  },
  {
   "cell_type": "code",
   "execution_count": 6,
   "outputs": [
    {
     "name": "stdout",
     "text": [
      "           env_id           |                                                               prefix                                                                \n",
      "━━━━━━━━━━━━━━━━━━━━━━━━━━━━┿━━━━━━━━━━━━━━━━━━━━━━━━━━━━━━━━━━━━━━━━━━━━━━━━━━━━━━━━━━━━━━━━━━━━━━━━━━━━━━━━━━━━━━━━━━━━━━━━━━━━━━━━━━━━━━━━━━━━━━━━━━━━━━━━━━━━━\n",
      "            rope            |                geyang/plan2vec/2019/12-16/analysis/local-metric-analysis/all_local_metric/02.26/rope/K-(1)/34.413608                \n",
      "            rope            |                geyang/plan2vec/2019/12-16/analysis/local-metric-analysis/all_local_metric/02.26/rope/K-(1)/30.770096                \n",
      "            rope            |                geyang/plan2vec/2019/12-16/analysis/local-metric-analysis/all_local_metric/02.26/rope/K-(1)/28.883938                \n",
      "            rope            |                geyang/plan2vec/2019/12-16/analysis/local-metric-analysis/all_local_metric/02.26/rope/K-(1)/32.590673                \n",
      "            rope            |                geyang/plan2vec/2019/12-16/analysis/local-metric-analysis/all_local_metric/02.26/rope/K-(1)/36.201837                \n",
      "        streetlearn         |    geyang/plan2vec/2019/12-16/analysis/local-metric-analysis/all_local_metric/02.26/streetlearn/ResNet18L2/lr-(1e-05)/41.078741     \n",
      "        streetlearn         |    geyang/plan2vec/2019/12-16/analysis/local-metric-analysis/all_local_metric/02.26/streetlearn/ResNet18L2/lr-(1e-05)/43.084514     \n",
      "        streetlearn         |    geyang/plan2vec/2019/12-16/analysis/local-metric-analysis/all_local_metric/02.26/streetlearn/ResNet18L2/lr-(1e-05)/46.871195     \n",
      "        streetlearn         |    geyang/plan2vec/2019/12-16/analysis/local-metric-analysis/all_local_metric/02.26/streetlearn/ResNet18L2/lr-(1e-05)/45.063410     \n",
      "        streetlearn         |    geyang/plan2vec/2019/12-16/analysis/local-metric-analysis/all_local_metric/02.26/streetlearn/ResNet18L2/lr-(1e-05)/39.206687     \n",
      "        streetlearn         |geyang/plan2vec/2019/12-16/analysis/local-metric-analysis/all_local_metric/12.28/streetlearn/LocalMetricConvDeep/lr-(1e-05)/17.656891\n",
      "            rope            |                geyang/plan2vec/2019/12-16/analysis/local-metric-analysis/all_local_metric/11.55/rope/K-(1)/33.474485                \n",
      "            rope            |                geyang/plan2vec/2019/12-16/analysis/local-metric-analysis/all_local_metric/11.55/rope/K-(1)/37.085705                \n",
      "            rope            |                geyang/plan2vec/2019/12-16/analysis/local-metric-analysis/all_local_metric/11.55/rope/K-(1)/35.235573                \n",
      "            rope            |                geyang/plan2vec/2019/12-16/analysis/local-metric-analysis/all_local_metric/11.55/rope/K-(1)/31.594129                \n",
      "            rope            |                geyang/plan2vec/2019/12-16/analysis/local-metric-analysis/all_local_metric/11.55/rope/K-(1)/29.416047                \n",
      " 回MazeDiscreteImgIdLess-v0  |    geyang/plan2vec/2019/12-16/analysis/local-metric-analysis/all_local_metric/11.55/img_maze/回MazeDiscreteImgIdLess-v0/06.453190    \n",
      " 回MazeDiscreteImgIdLess-v0  |    geyang/plan2vec/2019/12-16/analysis/local-metric-analysis/all_local_metric/11.55/img_maze/回MazeDiscreteImgIdLess-v0/04.559676    \n",
      " 回MazeDiscreteImgIdLess-v0  |    geyang/plan2vec/2019/12-16/analysis/local-metric-analysis/all_local_metric/11.55/img_maze/回MazeDiscreteImgIdLess-v0/08.593306    \n",
      " 回MazeDiscreteImgIdLess-v0  |    geyang/plan2vec/2019/12-16/analysis/local-metric-analysis/all_local_metric/11.55/img_maze/回MazeDiscreteImgIdLess-v0/18.657998    \n",
      "GoalMassDiscreteImgIdLess-v0|  geyang/plan2vec/2019/12-16/analysis/local-metric-analysis/all_local_metric/11.55/img_maze/GoalMassDiscreteImgIdLess-v0/57.343873   \n",
      "GoalMassDiscreteImgIdLess-v0|  geyang/plan2vec/2019/12-16/analysis/local-metric-analysis/all_local_metric/11.55/img_maze/GoalMassDiscreteImgIdLess-v0/59.243253   \n",
      "GoalMassDiscreteImgIdLess-v0|  geyang/plan2vec/2019/12-16/analysis/local-metric-analysis/all_local_metric/11.55/img_maze/GoalMassDiscreteImgIdLess-v0/55.375776   \n",
      "GoalMassDiscreteImgIdLess-v0|  geyang/plan2vec/2019/12-16/analysis/local-metric-analysis/all_local_metric/11.55/img_maze/GoalMassDiscreteImgIdLess-v0/45.538823   \n",
      " CMazeDiscreteImgIdLess-v0  |    geyang/plan2vec/2019/12-16/analysis/local-metric-analysis/all_local_metric/11.55/img_maze/CMazeDiscreteImgIdLess-v0/25.756335    \n",
      " CMazeDiscreteImgIdLess-v0  |    geyang/plan2vec/2019/12-16/analysis/local-metric-analysis/all_local_metric/11.55/img_maze/CMazeDiscreteImgIdLess-v0/27.594780    \n",
      " CMazeDiscreteImgIdLess-v0  |    geyang/plan2vec/2019/12-16/analysis/local-metric-analysis/all_local_metric/11.55/img_maze/CMazeDiscreteImgIdLess-v0/20.386952    \n",
      " CMazeDiscreteImgIdLess-v0  |    geyang/plan2vec/2019/12-16/analysis/local-metric-analysis/all_local_metric/11.55/img_maze/CMazeDiscreteImgIdLess-v0/22.120194    \n",
      " CMazeDiscreteImgIdLess-v0  |    geyang/plan2vec/2019/12-16/analysis/local-metric-analysis/all_local_metric/11.55/img_maze/CMazeDiscreteImgIdLess-v0/23.849376    \n",
      "\n"
     ],
     "output_type": "stream"
    }
   ],
   "source": [
    "logger.peek_stored_metrics(\"env_id\", \"prefix\", len=None)"
   ],
   "metadata": {
    "collapsed": false,
    "pycharm": {
     "name": "#%%\n",
     "is_executing": false
    }
   }
  },
  {
   "cell_type": "code",
   "execution_count": 13,
   "outputs": [
    {
     "name": "stdout",
     "text": [
      "                              accuracy-1.5      ±25%  accuracy-1.1  1.1-±25%  \\\n",
      "env_id                                                                         \n",
      "CMazeDiscreteImgIdLess-v0         0.999358  0.001167      0.946526  0.021667   \n",
      "GoalMassDiscreteImgIdLess-v0      0.999750  0.000333      0.945531  0.020000   \n",
      "rope                              0.966413  0.007422      0.969112  0.007422   \n",
      "streetlearn                       0.992252  0.004219      0.971372  0.014063   \n",
      "回MazeDiscreteImgIdLess-v0         0.999618  0.000000      0.957031  0.016333   \n",
      "\n",
      "                              eval/accuracy-1.5  eval/1.5-±25%  \\\n",
      "env_id                                                           \n",
      "CMazeDiscreteImgIdLess-v0              0.974432       0.004056   \n",
      "GoalMassDiscreteImgIdLess-v0           0.977966       0.003194   \n",
      "rope                                   0.923977       0.014620   \n",
      "streetlearn                            0.993113       0.000920   \n",
      "回MazeDiscreteImgIdLess-v0              0.976194       0.002574   \n",
      "\n",
      "                              eval/accuracy-1.1  eval/1.1-±25%  \n",
      "env_id                                                          \n",
      "CMazeDiscreteImgIdLess-v0              0.876439       0.023667  \n",
      "GoalMassDiscreteImgIdLess-v0           0.873123       0.025611  \n",
      "rope                                   0.891395       0.016082  \n",
      "streetlearn                            0.970328       0.016473  \n",
      "回MazeDiscreteImgIdLess-v0              0.868845       0.033648  \n"
     ],
     "output_type": "stream"
    }
   ],
   "source": [
    "import numpy as np\n",
    "import pandas as pd\n",
    "dataframe = pd.DataFrame(logger.summary_cache.data)\n",
    "grouped = dataframe.groupby('env_id')\n",
    "a= grouped['accuracy-1.5'].agg([\n",
    "    [\"accuracy-1.5\", lambda c: np.nanmean(np.concatenate(c.to_numpy()))], \n",
    "    [\"±25%\", lambda c: np.nanquantile(np.concatenate(c.to_numpy()), 0.75) \n",
    "                     - np.nanquantile(np.concatenate(c.to_numpy()), 0.25)]\n",
    "    ])\n",
    "b=grouped['accuracy-1.1'].agg([\n",
    "    [\"accuracy-1.1\", lambda c: np.nanmean(np.concatenate(c.to_numpy()))], \n",
    "    [\"1.1-±25%\", lambda c: np.nanquantile(np.concatenate(c.to_numpy()), 0.75) \n",
    "                     - np.nanquantile(np.concatenate(c.to_numpy()), 0.25)]\n",
    "    ])\n",
    "c=grouped['eval/accuracy-1.5'].agg([\n",
    "    [\"eval/accuracy-1.5\", lambda c: np.nanmean(np.concatenate(c.to_numpy()))], \n",
    "    [\"eval/1.5-±25%\", lambda c: np.nanquantile(np.concatenate(c.to_numpy()), 0.75) \n",
    "                     - np.nanquantile(np.concatenate(c.to_numpy()), 0.25)]\n",
    "    ])\n",
    "d=grouped['eval/accuracy-1.1'].agg([\n",
    "    [\"eval/accuracy-1.1\", lambda c: np.nanmean(np.concatenate(c.to_numpy()))], \n",
    "    [\"eval/1.1-±25%\", lambda c: np.nanquantile(np.concatenate(c.to_numpy()), 0.75) \n",
    "                     - np.nanquantile(np.concatenate(c.to_numpy()), 0.25)]\n",
    "    ])\n",
    "\n",
    "_= pd.merge(a, b, on=['env_id'], how='inner')\n",
    "_= pd.merge(_, c, on=['env_id'], how='inner')\n",
    "account = pd.merge(_, d, on=['env_id'], how='inner')\n",
    "print(account)"
   ],
   "metadata": {
    "collapsed": false,
    "pycharm": {
     "name": "#%%\n",
     "is_executing": false
    }
   }
  },
  {
   "cell_type": "code",
   "execution_count": null,
   "outputs": [],
   "source": [
    "@thunk\n",
    "def grab_accuracy_table():\n",
    "    from ml_logger import logger\n",
    "\n",
    "    with logger.PrefixContext(\"/geyang/plan2vec/2019/12-15/analysis/local-metric-analysis\"):\n",
    "        exps = logger.glob(\"**/parameters.pkl\")\n",
    "        for path in exps:\n",
    "            if path.startswith('analysis'):\n",
    "                continue\n",
    "            print(path)\n",
    "            try:\n",
    "                env_id = logger.get_parameters(\"Args.env_id\", path=path)\n",
    "                accuracy = logger.get_metrics(\"accuracy-1.5/mean\", path=path.replace('parameters', 'metrics'))\n",
    "                tail = accuracy[-100:]\n",
    "                logger.log(env_id=env_id, accuracy=tail.mean(), pm25=tail.quantile(.25), pm75=tail.quantile(0.75),\n",
    "                           flush=True)\n",
    "            except Exception as e:\n",
    "                print(\">>>>\", e)\n",
    "                pass\n",
    "\n",
    "\n",
    "\n"
   ],
   "metadata": {
    "collapsed": false,
    "pycharm": {
     "name": "#%%\n"
    }
   }
  }
 ],
 "metadata": {
  "kernelspec": {
   "name": "python3",
   "language": "python",
   "display_name": "Python 3"
  },
  "language_info": {
   "codemirror_mode": {
    "name": "ipython",
    "version": 2
   },
   "file_extension": ".py",
   "mimetype": "text/x-python",
   "name": "python",
   "nbconvert_exporter": "python",
   "pygments_lexer": "ipython2",
   "version": "2.7.6"
  },
  "pycharm": {
   "stem_cell": {
    "cell_type": "raw",
    "source": [],
    "metadata": {
     "collapsed": false
    }
   }
  }
 },
 "nbformat": 4,
 "nbformat_minor": 0
}